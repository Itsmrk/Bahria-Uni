{
 "cells": [
  {
   "cell_type": "code",
   "execution_count": 36,
   "metadata": {},
   "outputs": [
    {
     "name": "stdout",
     "output_type": "stream",
     "text": [
      "Enter the number : 5\n",
      "5 x 1  =  5\n",
      "5 x 2  =  10\n",
      "5 x 3  =  15\n",
      "5 x 4  =  20\n",
      "5 x 5  =  25\n",
      "5 x 6  =  30\n",
      "5 x 7  =  35\n",
      "5 x 8  =  40\n",
      "5 x 9  =  45\n",
      "5 x 10  =  50\n"
     ]
    }
   ],
   "source": [
    "num = int(input(\"Enter the number : \"))\n",
    "a=1\n",
    "while a <= 10:\n",
    "    print(num,\"x\",a,\" = \",num*a)\n",
    "    a=a+1"
   ]
  },
  {
   "cell_type": "code",
   "execution_count": 7,
   "metadata": {},
   "outputs": [
    {
     "name": "stdout",
     "output_type": "stream",
     "text": [
      "Enter the number : 4\n",
      "4 x 1 = 4\n",
      "4 x 2 = 8\n",
      "4 x 3 = 12\n",
      "4 x 4 = 16\n",
      "4 x 5 = 20\n",
      "4 x 6 = 24\n",
      "4 x 7 = 28\n",
      "4 x 8 = 32\n",
      "4 x 9 = 36\n",
      "4 x 10 = 40\n"
     ]
    }
   ],
   "source": [
    "num = int(input(\"Enter the number : \"))\n",
    "a=1\n",
    "for i in range(1,11):\n",
    "    print(num,'x',i,'=',num*i)\n",
    "    "
   ]
  },
  {
   "cell_type": "code",
   "execution_count": 23,
   "metadata": {},
   "outputs": [
    {
     "data": {
      "text/plain": [
       "[1, 4, 9, 16]"
      ]
     },
     "execution_count": 23,
     "metadata": {},
     "output_type": "execute_result"
    }
   ],
   "source": [
    "list1=[1,2,3,4]\n",
    "list2=[]\n",
    "i=0\n",
    "while i<len(list1):\n",
    "#     result=list1[i] * list1[i]\n",
    "    result=list1[i] ** 2\n",
    "    list2.append(result)\n",
    "    i =i+1\n",
    "list2"
   ]
  },
  {
   "cell_type": "code",
   "execution_count": 24,
   "metadata": {},
   "outputs": [
    {
     "data": {
      "text/plain": [
       "[1, 4, 9, 16]"
      ]
     },
     "execution_count": 24,
     "metadata": {},
     "output_type": "execute_result"
    }
   ],
   "source": [
    "list1=[1,2,3,4]\n",
    "list2=[]\n",
    "for i in range(len(list1)):\n",
    "#     result=list1[i] * list1[i]\n",
    "    result=list1[i] ** 2\n",
    "    list2.append(result)\n",
    "    i =i+1\n",
    "list2"
   ]
  },
  {
   "cell_type": "code",
   "execution_count": 32,
   "metadata": {},
   "outputs": [
    {
     "name": "stdout",
     "output_type": "stream",
     "text": [
      "[2, 4, 6, 8, 10, 12, 14, 16, 18, 20, 22, 24, 26, 28, 30, 32, 34, 36, 38, 40, 42, 44, 46, 48, 50]\n",
      "[1, 3, 5, 7, 9, 11, 13, 15, 17, 19, 21, 23, 25, 27, 29, 31, 33, 35, 37, 39, 41, 43, 45, 47, 49]\n"
     ]
    }
   ],
   "source": [
    "evenlis=[]\n",
    "oddlis=[]\n",
    "for i in range(1,51):\n",
    "  if(i % 2 == 0):\n",
    "    evenlis.append(i)\n",
    "  else:\n",
    "    oddlis.append(i)\n",
    "print(evenlis)\n",
    "print(oddlis)"
   ]
  },
  {
   "cell_type": "code",
   "execution_count": 37,
   "metadata": {},
   "outputs": [
    {
     "name": "stdout",
     "output_type": "stream",
     "text": [
      "Enter list limit5\n",
      "[3]\n",
      "[1, 2, 4]\n"
     ]
    }
   ],
   "source": [
    "lisdiv3=[]\n",
    "lis=[]\n",
    "limit = int(input(\"Enter list limit\"))\n",
    "for i in range(1,limit):\n",
    "    if i % 3 == 0:\n",
    "        lisdiv3.append(i)\n",
    "    else:\n",
    "        lis.append(i)\n",
    "print(lisdiv3)\n",
    "print(lis)"
   ]
  },
  {
   "cell_type": "code",
   "execution_count": null,
   "metadata": {},
   "outputs": [],
   "source": []
  }
 ],
 "metadata": {
  "kernelspec": {
   "display_name": "Python 3",
   "language": "python",
   "name": "python3"
  },
  "language_info": {
   "codemirror_mode": {
    "name": "ipython",
    "version": 3
   },
   "file_extension": ".py",
   "mimetype": "text/x-python",
   "name": "python",
   "nbconvert_exporter": "python",
   "pygments_lexer": "ipython3",
   "version": "3.7.4"
  }
 },
 "nbformat": 4,
 "nbformat_minor": 2
}
