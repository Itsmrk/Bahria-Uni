{
  "nbformat": 4,
  "nbformat_minor": 0,
  "metadata": {
    "colab": {
      "name": "Labwork_11_11_2020.ipynb",
      "provenance": [],
      "authorship_tag": "ABX9TyOcDg0fZZQydBYySIK6fR3A",
      "include_colab_link": true
    },
    "kernelspec": {
      "name": "python3",
      "display_name": "Python 3"
    }
  },
  "cells": [
    {
      "cell_type": "markdown",
      "metadata": {
        "id": "view-in-github",
        "colab_type": "text"
      },
      "source": [
        "<a href=\"https://colab.research.google.com/github/Itsmrk/Bahria-Uni/blob/master/Labwork_11_11_2020.ipynb\" target=\"_parent\"><img src=\"https://colab.research.google.com/assets/colab-badge.svg\" alt=\"Open In Colab\"/></a>"
      ]
    },
    {
      "cell_type": "code",
      "metadata": {
        "id": "PAwHFrh4HdTg",
        "outputId": "611a2e13-22dc-476e-d544-c1731036ce74",
        "colab": {
          "base_uri": "https://localhost:8080/"
        }
      },
      "source": [
        "from google.colab import drive\n",
        "drive.mount('/content/drive')"
      ],
      "execution_count": 1,
      "outputs": [
        {
          "output_type": "stream",
          "text": [
            "Mounted at /content/drive\n"
          ],
          "name": "stdout"
        }
      ]
    },
    {
      "cell_type": "code",
      "metadata": {
        "id": "J2v69oO1Tshb"
      },
      "source": [
        "import pandas as pd\n",
        "from sklearn import linear_model\n",
        "from sklearn.preprocessing import StandardScaler \n",
        "scale = StandardScaler()\n",
        "from sklearn.feature_selection import SelectKBest\n",
        "from sklearn.feature_selection import chi2"
      ],
      "execution_count": 2,
      "outputs": []
    },
    {
      "cell_type": "code",
      "metadata": {
        "id": "rt2-LwbIT7Xm"
      },
      "source": [
        "data = pd.read_csv(\"/content/drive/My Drive/Datasets/train.csv\")"
      ],
      "execution_count": 3,
      "outputs": []
    },
    {
      "cell_type": "code",
      "metadata": {
        "id": "uPCgoW-UUGsy",
        "outputId": "3863c11f-ab6e-4a98-8270-70fc14873510",
        "colab": {
          "base_uri": "https://localhost:8080/",
          "height": 439
        }
      },
      "source": [
        "data"
      ],
      "execution_count": 4,
      "outputs": [
        {
          "output_type": "execute_result",
          "data": {
            "text/html": [
              "<div>\n",
              "<style scoped>\n",
              "    .dataframe tbody tr th:only-of-type {\n",
              "        vertical-align: middle;\n",
              "    }\n",
              "\n",
              "    .dataframe tbody tr th {\n",
              "        vertical-align: top;\n",
              "    }\n",
              "\n",
              "    .dataframe thead th {\n",
              "        text-align: right;\n",
              "    }\n",
              "</style>\n",
              "<table border=\"1\" class=\"dataframe\">\n",
              "  <thead>\n",
              "    <tr style=\"text-align: right;\">\n",
              "      <th></th>\n",
              "      <th>battery_power</th>\n",
              "      <th>blue</th>\n",
              "      <th>clock_speed</th>\n",
              "      <th>dual_sim</th>\n",
              "      <th>fc</th>\n",
              "      <th>four_g</th>\n",
              "      <th>int_memory</th>\n",
              "      <th>m_dep</th>\n",
              "      <th>mobile_wt</th>\n",
              "      <th>n_cores</th>\n",
              "      <th>pc</th>\n",
              "      <th>px_height</th>\n",
              "      <th>px_width</th>\n",
              "      <th>ram</th>\n",
              "      <th>sc_h</th>\n",
              "      <th>sc_w</th>\n",
              "      <th>talk_time</th>\n",
              "      <th>three_g</th>\n",
              "      <th>touch_screen</th>\n",
              "      <th>wifi</th>\n",
              "      <th>price_range</th>\n",
              "    </tr>\n",
              "  </thead>\n",
              "  <tbody>\n",
              "    <tr>\n",
              "      <th>0</th>\n",
              "      <td>842</td>\n",
              "      <td>0</td>\n",
              "      <td>2.2</td>\n",
              "      <td>0</td>\n",
              "      <td>1</td>\n",
              "      <td>0</td>\n",
              "      <td>7</td>\n",
              "      <td>0.6</td>\n",
              "      <td>188</td>\n",
              "      <td>2</td>\n",
              "      <td>2</td>\n",
              "      <td>20</td>\n",
              "      <td>756</td>\n",
              "      <td>2549</td>\n",
              "      <td>9</td>\n",
              "      <td>7</td>\n",
              "      <td>19</td>\n",
              "      <td>0</td>\n",
              "      <td>0</td>\n",
              "      <td>1</td>\n",
              "      <td>1</td>\n",
              "    </tr>\n",
              "    <tr>\n",
              "      <th>1</th>\n",
              "      <td>1021</td>\n",
              "      <td>1</td>\n",
              "      <td>0.5</td>\n",
              "      <td>1</td>\n",
              "      <td>0</td>\n",
              "      <td>1</td>\n",
              "      <td>53</td>\n",
              "      <td>0.7</td>\n",
              "      <td>136</td>\n",
              "      <td>3</td>\n",
              "      <td>6</td>\n",
              "      <td>905</td>\n",
              "      <td>1988</td>\n",
              "      <td>2631</td>\n",
              "      <td>17</td>\n",
              "      <td>3</td>\n",
              "      <td>7</td>\n",
              "      <td>1</td>\n",
              "      <td>1</td>\n",
              "      <td>0</td>\n",
              "      <td>2</td>\n",
              "    </tr>\n",
              "    <tr>\n",
              "      <th>2</th>\n",
              "      <td>563</td>\n",
              "      <td>1</td>\n",
              "      <td>0.5</td>\n",
              "      <td>1</td>\n",
              "      <td>2</td>\n",
              "      <td>1</td>\n",
              "      <td>41</td>\n",
              "      <td>0.9</td>\n",
              "      <td>145</td>\n",
              "      <td>5</td>\n",
              "      <td>6</td>\n",
              "      <td>1263</td>\n",
              "      <td>1716</td>\n",
              "      <td>2603</td>\n",
              "      <td>11</td>\n",
              "      <td>2</td>\n",
              "      <td>9</td>\n",
              "      <td>1</td>\n",
              "      <td>1</td>\n",
              "      <td>0</td>\n",
              "      <td>2</td>\n",
              "    </tr>\n",
              "    <tr>\n",
              "      <th>3</th>\n",
              "      <td>615</td>\n",
              "      <td>1</td>\n",
              "      <td>2.5</td>\n",
              "      <td>0</td>\n",
              "      <td>0</td>\n",
              "      <td>0</td>\n",
              "      <td>10</td>\n",
              "      <td>0.8</td>\n",
              "      <td>131</td>\n",
              "      <td>6</td>\n",
              "      <td>9</td>\n",
              "      <td>1216</td>\n",
              "      <td>1786</td>\n",
              "      <td>2769</td>\n",
              "      <td>16</td>\n",
              "      <td>8</td>\n",
              "      <td>11</td>\n",
              "      <td>1</td>\n",
              "      <td>0</td>\n",
              "      <td>0</td>\n",
              "      <td>2</td>\n",
              "    </tr>\n",
              "    <tr>\n",
              "      <th>4</th>\n",
              "      <td>1821</td>\n",
              "      <td>1</td>\n",
              "      <td>1.2</td>\n",
              "      <td>0</td>\n",
              "      <td>13</td>\n",
              "      <td>1</td>\n",
              "      <td>44</td>\n",
              "      <td>0.6</td>\n",
              "      <td>141</td>\n",
              "      <td>2</td>\n",
              "      <td>14</td>\n",
              "      <td>1208</td>\n",
              "      <td>1212</td>\n",
              "      <td>1411</td>\n",
              "      <td>8</td>\n",
              "      <td>2</td>\n",
              "      <td>15</td>\n",
              "      <td>1</td>\n",
              "      <td>1</td>\n",
              "      <td>0</td>\n",
              "      <td>1</td>\n",
              "    </tr>\n",
              "    <tr>\n",
              "      <th>...</th>\n",
              "      <td>...</td>\n",
              "      <td>...</td>\n",
              "      <td>...</td>\n",
              "      <td>...</td>\n",
              "      <td>...</td>\n",
              "      <td>...</td>\n",
              "      <td>...</td>\n",
              "      <td>...</td>\n",
              "      <td>...</td>\n",
              "      <td>...</td>\n",
              "      <td>...</td>\n",
              "      <td>...</td>\n",
              "      <td>...</td>\n",
              "      <td>...</td>\n",
              "      <td>...</td>\n",
              "      <td>...</td>\n",
              "      <td>...</td>\n",
              "      <td>...</td>\n",
              "      <td>...</td>\n",
              "      <td>...</td>\n",
              "      <td>...</td>\n",
              "    </tr>\n",
              "    <tr>\n",
              "      <th>1995</th>\n",
              "      <td>794</td>\n",
              "      <td>1</td>\n",
              "      <td>0.5</td>\n",
              "      <td>1</td>\n",
              "      <td>0</td>\n",
              "      <td>1</td>\n",
              "      <td>2</td>\n",
              "      <td>0.8</td>\n",
              "      <td>106</td>\n",
              "      <td>6</td>\n",
              "      <td>14</td>\n",
              "      <td>1222</td>\n",
              "      <td>1890</td>\n",
              "      <td>668</td>\n",
              "      <td>13</td>\n",
              "      <td>4</td>\n",
              "      <td>19</td>\n",
              "      <td>1</td>\n",
              "      <td>1</td>\n",
              "      <td>0</td>\n",
              "      <td>0</td>\n",
              "    </tr>\n",
              "    <tr>\n",
              "      <th>1996</th>\n",
              "      <td>1965</td>\n",
              "      <td>1</td>\n",
              "      <td>2.6</td>\n",
              "      <td>1</td>\n",
              "      <td>0</td>\n",
              "      <td>0</td>\n",
              "      <td>39</td>\n",
              "      <td>0.2</td>\n",
              "      <td>187</td>\n",
              "      <td>4</td>\n",
              "      <td>3</td>\n",
              "      <td>915</td>\n",
              "      <td>1965</td>\n",
              "      <td>2032</td>\n",
              "      <td>11</td>\n",
              "      <td>10</td>\n",
              "      <td>16</td>\n",
              "      <td>1</td>\n",
              "      <td>1</td>\n",
              "      <td>1</td>\n",
              "      <td>2</td>\n",
              "    </tr>\n",
              "    <tr>\n",
              "      <th>1997</th>\n",
              "      <td>1911</td>\n",
              "      <td>0</td>\n",
              "      <td>0.9</td>\n",
              "      <td>1</td>\n",
              "      <td>1</td>\n",
              "      <td>1</td>\n",
              "      <td>36</td>\n",
              "      <td>0.7</td>\n",
              "      <td>108</td>\n",
              "      <td>8</td>\n",
              "      <td>3</td>\n",
              "      <td>868</td>\n",
              "      <td>1632</td>\n",
              "      <td>3057</td>\n",
              "      <td>9</td>\n",
              "      <td>1</td>\n",
              "      <td>5</td>\n",
              "      <td>1</td>\n",
              "      <td>1</td>\n",
              "      <td>0</td>\n",
              "      <td>3</td>\n",
              "    </tr>\n",
              "    <tr>\n",
              "      <th>1998</th>\n",
              "      <td>1512</td>\n",
              "      <td>0</td>\n",
              "      <td>0.9</td>\n",
              "      <td>0</td>\n",
              "      <td>4</td>\n",
              "      <td>1</td>\n",
              "      <td>46</td>\n",
              "      <td>0.1</td>\n",
              "      <td>145</td>\n",
              "      <td>5</td>\n",
              "      <td>5</td>\n",
              "      <td>336</td>\n",
              "      <td>670</td>\n",
              "      <td>869</td>\n",
              "      <td>18</td>\n",
              "      <td>10</td>\n",
              "      <td>19</td>\n",
              "      <td>1</td>\n",
              "      <td>1</td>\n",
              "      <td>1</td>\n",
              "      <td>0</td>\n",
              "    </tr>\n",
              "    <tr>\n",
              "      <th>1999</th>\n",
              "      <td>510</td>\n",
              "      <td>1</td>\n",
              "      <td>2.0</td>\n",
              "      <td>1</td>\n",
              "      <td>5</td>\n",
              "      <td>1</td>\n",
              "      <td>45</td>\n",
              "      <td>0.9</td>\n",
              "      <td>168</td>\n",
              "      <td>6</td>\n",
              "      <td>16</td>\n",
              "      <td>483</td>\n",
              "      <td>754</td>\n",
              "      <td>3919</td>\n",
              "      <td>19</td>\n",
              "      <td>4</td>\n",
              "      <td>2</td>\n",
              "      <td>1</td>\n",
              "      <td>1</td>\n",
              "      <td>1</td>\n",
              "      <td>3</td>\n",
              "    </tr>\n",
              "  </tbody>\n",
              "</table>\n",
              "<p>2000 rows × 21 columns</p>\n",
              "</div>"
            ],
            "text/plain": [
              "      battery_power  blue  clock_speed  ...  touch_screen  wifi  price_range\n",
              "0               842     0          2.2  ...             0     1            1\n",
              "1              1021     1          0.5  ...             1     0            2\n",
              "2               563     1          0.5  ...             1     0            2\n",
              "3               615     1          2.5  ...             0     0            2\n",
              "4              1821     1          1.2  ...             1     0            1\n",
              "...             ...   ...          ...  ...           ...   ...          ...\n",
              "1995            794     1          0.5  ...             1     0            0\n",
              "1996           1965     1          2.6  ...             1     1            2\n",
              "1997           1911     0          0.9  ...             1     0            3\n",
              "1998           1512     0          0.9  ...             1     1            0\n",
              "1999            510     1          2.0  ...             1     1            3\n",
              "\n",
              "[2000 rows x 21 columns]"
            ]
          },
          "metadata": {
            "tags": []
          },
          "execution_count": 4
        }
      ]
    },
    {
      "cell_type": "code",
      "metadata": {
        "id": "vpi8SwbtUH-Q"
      },
      "source": [
        "X = data.iloc[:,0:20] #indepndent Columns"
      ],
      "execution_count": 5,
      "outputs": []
    },
    {
      "cell_type": "code",
      "metadata": {
        "id": "OLr75MJAUN-5"
      },
      "source": [
        "Y = data.iloc[:,-1] #target column i.e price range"
      ],
      "execution_count": 6,
      "outputs": []
    },
    {
      "cell_type": "code",
      "metadata": {
        "id": "bXz5D9ETUP_F",
        "outputId": "163bdfd1-c88d-483d-dcd6-a628b6f48eea",
        "colab": {
          "base_uri": "https://localhost:8080/"
        }
      },
      "source": [
        "from sklearn.model_selection import train_test_split\n",
        "X_train,X_test,Y_train,Y_test=train_test_split(X,Y,test_size=0.3,random_state=100)\n",
        "X_train.shape\n",
        "print(X_test.shape)"
      ],
      "execution_count": 7,
      "outputs": [
        {
          "output_type": "stream",
          "text": [
            "(600, 20)\n"
          ],
          "name": "stdout"
        }
      ]
    },
    {
      "cell_type": "code",
      "metadata": {
        "id": "FFaD9RtyUUJH",
        "outputId": "761b97eb-2a30-4aaf-b9b7-23f39f64ae93",
        "colab": {
          "base_uri": "https://localhost:8080/"
        }
      },
      "source": [
        "#part \n",
        "from sklearn import svm , metrics\n",
        "#classifier = svm.SVC()\n",
        "classifier=svm.SVC(C=1.0,kernel='linear',gamma=0.01,verbose=True)\n",
        "classifier.fit(X_train,Y_train)\n",
        "Y_pred=classifier.predict(X_test)\n",
        "print(Y_pred)\n",
        "print(\"Confusion matrix:\\n%s\"% metrics.confusion_matrix(Y_test,Y_pred))"
      ],
      "execution_count": 8,
      "outputs": [
        {
          "output_type": "stream",
          "text": [
            "[LibSVM][0 2 1 3 2 3 3 2 3 0 0 2 3 3 0 2 2 3 2 0 0 3 1 0 0 1 3 0 2 2 0 3 0 2 0 2 3\n",
            " 2 1 3 3 3 0 0 3 3 2 0 1 2 3 2 3 2 1 3 1 3 1 0 3 2 3 0 2 0 0 3 3 2 0 0 2 0\n",
            " 2 3 0 3 2 3 2 0 2 0 2 2 1 2 3 3 2 3 3 2 0 2 3 1 2 1 0 0 3 3 2 0 0 1 0 1 1\n",
            " 1 3 2 0 3 1 3 1 1 3 1 0 1 3 2 3 2 0 3 2 0 1 2 3 1 3 2 0 1 3 0 2 3 1 2 2 2\n",
            " 0 1 0 3 2 2 1 0 2 3 1 1 3 2 3 0 1 3 0 2 3 0 2 0 2 1 1 2 2 1 3 1 0 2 1 0 0\n",
            " 3 2 2 3 2 1 1 2 1 2 2 3 1 1 1 3 1 2 1 3 0 1 3 3 2 0 1 2 0 1 2 3 0 2 3 0 3\n",
            " 0 0 1 1 2 3 2 0 2 2 0 1 1 3 2 2 1 0 1 3 1 1 0 2 3 1 1 1 1 2 3 1 3 2 2 1 2\n",
            " 3 1 3 2 2 2 2 2 1 2 1 1 3 2 0 2 1 1 3 2 2 2 1 3 1 0 2 3 0 0 1 3 2 1 2 2 0\n",
            " 2 3 1 3 3 3 0 0 3 0 3 0 0 0 3 0 1 1 0 1 1 3 1 1 3 3 0 0 0 0 0 2 1 1 2 1 0\n",
            " 0 1 2 3 1 2 1 0 2 0 0 3 2 1 1 0 2 0 3 3 0 2 3 0 0 1 2 3 3 1 3 0 3 1 2 1 0\n",
            " 2 0 0 2 2 3 0 1 1 3 0 3 0 1 0 1 0 2 2 1 1 3 0 1 0 3 0 3 0 0 0 0 3 0 0 3 3\n",
            " 1 1 3 0 0 2 1 0 0 2 2 0 0 3 0 0 0 2 1 1 1 0 3 0 0 2 3 1 0 2 1 3 2 0 0 0 0\n",
            " 2 0 1 1 0 3 3 2 2 3 0 3 2 3 3 0 0 3 0 1 1 0 0 2 0 3 3 0 1 1 1 1 2 1 1 0 0\n",
            " 2 3 3 2 1 1 3 1 2 0 2 1 2 0 1 1 2 3 2 0 1 2 1 0 3 3 0 1 3 2 3 0 0 3 2 1 1\n",
            " 1 3 1 2 3 3 1 2 3 2 1 3 1 2 2 3 1 1 0 0 2 3 3 2 0 1 3 0 2 3 2 2 2 0 1 0 0\n",
            " 1 2 0 2 1 1 1 3 2 1 0 3 3 0 3 0 2 3 2 0 0 1 3 0 2 1 3 0 2 1 0 2 3 2 1 0 2\n",
            " 1 2 0 2 0 2 0 3]\n",
            "Confusion matrix:\n",
            "[[158   1   0   0]\n",
            " [  2 138   6   0]\n",
            " [  0   4 141   2]\n",
            " [  0   0   5 143]]\n"
          ],
          "name": "stdout"
        }
      ]
    },
    {
      "cell_type": "code",
      "metadata": {
        "id": "sGKOsnS1UWjO",
        "outputId": "aed58f8d-461a-478e-84b4-d9b6dc21a125",
        "colab": {
          "base_uri": "https://localhost:8080/"
        }
      },
      "source": [
        "from sklearn.metrics import accuracy_score\n",
        "print(accuracy_score(Y_test,Y_pred)*100)"
      ],
      "execution_count": 9,
      "outputs": [
        {
          "output_type": "stream",
          "text": [
            "96.66666666666667\n"
          ],
          "name": "stdout"
        }
      ]
    },
    {
      "cell_type": "code",
      "metadata": {
        "id": "XwaKCLY8UZ2X"
      },
      "source": [
        "bestfeatures = SelectKBest(score_func=chi2, k=2)\n",
        "fit = bestfeatures.fit(X,Y)"
      ],
      "execution_count": 10,
      "outputs": []
    },
    {
      "cell_type": "code",
      "metadata": {
        "id": "M9j4yqKaUckQ"
      },
      "source": [
        "dfscores = pd.DataFrame(fit.scores_)"
      ],
      "execution_count": 11,
      "outputs": []
    },
    {
      "cell_type": "code",
      "metadata": {
        "id": "wl5qNPIFUgzs"
      },
      "source": [
        "dfcolumns = pd.DataFrame(X.columns)"
      ],
      "execution_count": 12,
      "outputs": []
    },
    {
      "cell_type": "code",
      "metadata": {
        "id": "p6VYvSDMUip7"
      },
      "source": [
        "#concat two dataframes for batter visualization\n",
        "featureScores = pd.concat([dfcolumns,dfscores],axis=1)\n"
      ],
      "execution_count": 13,
      "outputs": []
    },
    {
      "cell_type": "code",
      "metadata": {
        "id": "O2t9131iUkpl"
      },
      "source": [
        "featureScores.columns = ['Specs', 'Score']"
      ],
      "execution_count": 14,
      "outputs": []
    },
    {
      "cell_type": "code",
      "metadata": {
        "id": "UHm_GuJeUnSl",
        "outputId": "b502a95b-fab2-4d28-f8e3-61cc2e3ffa34",
        "colab": {
          "base_uri": "https://localhost:8080/"
        }
      },
      "source": [
        "print(featureScores.nlargest(10,'Score'))"
      ],
      "execution_count": 15,
      "outputs": [
        {
          "output_type": "stream",
          "text": [
            "            Specs          Score\n",
            "13            ram  931267.519053\n",
            "11      px_height   17363.569536\n",
            "0   battery_power   14129.866576\n",
            "12       px_width    9810.586750\n",
            "8       mobile_wt      95.972863\n",
            "6      int_memory      89.839124\n",
            "15           sc_w      16.480319\n",
            "16      talk_time      13.236400\n",
            "4              fc      10.135166\n",
            "14           sc_h       9.614878\n"
          ],
          "name": "stdout"
        }
      ]
    },
    {
      "cell_type": "code",
      "metadata": {
        "id": "jMES5sTzUo9h",
        "outputId": "477ce397-b6bb-4ccd-b3a8-0dadece74cc9",
        "colab": {
          "base_uri": "https://localhost:8080/"
        }
      },
      "source": [
        "features = fit.transform(X)\n",
        "features"
      ],
      "execution_count": 16,
      "outputs": [
        {
          "output_type": "execute_result",
          "data": {
            "text/plain": [
              "array([[  20., 2549.],\n",
              "       [ 905., 2631.],\n",
              "       [1263., 2603.],\n",
              "       ...,\n",
              "       [ 868., 3057.],\n",
              "       [ 336.,  869.],\n",
              "       [ 483., 3919.]])"
            ]
          },
          "metadata": {
            "tags": []
          },
          "execution_count": 16
        }
      ]
    },
    {
      "cell_type": "code",
      "metadata": {
        "id": "o-_PzQCPUrL5",
        "outputId": "d4cb1a32-afcb-4b67-8a50-41054d3b772a",
        "colab": {
          "base_uri": "https://localhost:8080/"
        }
      },
      "source": [
        "X_train,X_test,Y_train,Y_test=train_test_split(features,Y,test_size=0.3,random_state=100)\n",
        "X_train.shape\n",
        "print(X_test.shape)"
      ],
      "execution_count": 17,
      "outputs": [
        {
          "output_type": "stream",
          "text": [
            "(600, 2)\n"
          ],
          "name": "stdout"
        }
      ]
    },
    {
      "cell_type": "code",
      "metadata": {
        "id": "qGoeGXZtUs9r",
        "outputId": "83d5746a-ae7d-46a2-dafa-426ac334cb95",
        "colab": {
          "base_uri": "https://localhost:8080/"
        }
      },
      "source": [
        "#part \n",
        "from sklearn import svm , metrics\n",
        "#classifier = svm.SVC()\n",
        "classifier=svm.SVC(C=1.0,kernel='linear',gamma=0.01,verbose=True)\n",
        "classifier.fit(X_train,Y_train)\n",
        "Y_pred=classifier.predict(X_test)\n",
        "print(Y_pred)\n",
        "print(\"Confusion matrix:\\n%s\"% metrics.confusion_matrix(Y_test,Y_pred))"
      ],
      "execution_count": 18,
      "outputs": [
        {
          "output_type": "stream",
          "text": [
            "[LibSVM][0 2 0 3 2 3 3 2 3 1 0 1 3 3 0 2 2 3 2 0 0 3 1 0 0 1 3 0 1 2 0 3 0 2 0 3 3\n",
            " 2 1 3 3 3 0 0 3 3 3 0 1 3 3 3 3 2 1 3 1 3 1 0 2 2 3 0 3 0 0 3 3 2 0 1 2 1\n",
            " 2 3 0 3 2 3 1 0 3 0 2 2 2 2 3 3 3 2 3 2 0 1 3 1 1 1 0 0 2 3 2 0 0 0 1 2 1\n",
            " 2 3 2 0 3 2 2 0 1 3 1 1 2 3 2 3 2 0 2 2 1 1 2 2 1 3 2 0 1 3 0 2 3 2 2 2 2\n",
            " 0 2 0 3 1 2 1 0 2 3 0 1 3 2 3 0 1 3 0 3 3 0 2 1 2 1 2 1 2 1 3 0 0 2 1 0 0\n",
            " 3 2 2 3 2 2 1 2 1 2 2 2 2 2 1 3 1 2 1 3 0 1 3 3 2 0 1 2 0 1 2 3 0 1 2 0 3\n",
            " 0 0 1 2 2 3 1 0 1 2 0 1 0 3 3 2 2 0 1 3 2 1 0 2 2 1 2 2 1 3 3 0 3 2 1 1 2\n",
            " 3 1 2 3 2 2 2 3 0 1 0 1 2 2 0 2 1 1 3 2 1 2 1 3 1 0 2 3 0 0 1 3 2 1 3 2 0\n",
            " 2 3 0 2 3 2 0 0 3 1 3 1 1 0 3 0 1 2 0 0 1 3 1 2 3 3 0 0 0 0 0 3 1 1 2 1 0\n",
            " 0 1 2 3 1 2 1 0 3 0 0 3 2 1 2 0 2 0 3 3 0 2 3 1 0 1 3 3 3 2 3 0 3 1 2 0 0\n",
            " 2 0 0 1 2 3 1 1 1 2 1 2 0 1 0 1 1 2 3 1 1 3 0 1 0 3 0 3 0 0 0 0 3 0 0 3 3\n",
            " 1 1 3 0 0 3 2 0 0 1 2 0 0 3 0 0 0 2 1 1 1 0 3 0 0 2 3 1 0 1 0 3 1 0 0 0 0\n",
            " 2 0 0 1 0 3 3 2 2 3 1 3 3 3 3 0 0 3 0 2 1 0 0 2 0 3 3 1 1 1 1 1 2 1 1 0 0\n",
            " 2 3 2 2 1 0 2 2 1 0 2 2 2 0 1 1 2 2 2 0 2 2 1 0 2 3 0 1 3 2 3 0 0 2 1 1 0\n",
            " 1 3 1 2 3 3 0 2 3 2 1 3 0 2 2 3 1 1 0 0 2 2 3 3 0 0 2 0 2 3 2 1 2 0 2 0 0\n",
            " 1 3 0 1 1 1 1 3 2 1 0 2 3 0 3 0 3 2 1 0 0 1 3 0 1 1 3 0 2 1 1 2 3 1 1 0 1\n",
            " 1 2 1 2 0 2 0 3]\n",
            "Confusion matrix:\n",
            "[[141  18   0   0]\n",
            " [ 20  97  29   0]\n",
            " [  0  26 101  20]\n",
            " [  0   0  25 123]]\n"
          ],
          "name": "stdout"
        }
      ]
    },
    {
      "cell_type": "code",
      "metadata": {
        "id": "bNkAPBKmUvYM",
        "outputId": "fc89b45c-da74-4d0d-fa52-d988c67952cf",
        "colab": {
          "base_uri": "https://localhost:8080/"
        }
      },
      "source": [
        "from sklearn.metrics import accuracy_score\n",
        "print(accuracy_score(Y_test,Y_pred)*100)"
      ],
      "execution_count": 19,
      "outputs": [
        {
          "output_type": "stream",
          "text": [
            "77.0\n"
          ],
          "name": "stdout"
        }
      ]
    },
    {
      "cell_type": "code",
      "metadata": {
        "id": "7NqvMKSiUx2C"
      },
      "source": [
        ""
      ],
      "execution_count": null,
      "outputs": []
    }
  ]
}